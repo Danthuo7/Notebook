{
 "cells": [
  {
   "cell_type": "markdown",
   "id": "478c6c67-3c91-4b0d-934a-0cfc999db5cf",
   "metadata": {
    "tags": []
   },
   "source": [
    "# Data Science Tools and Ecosystems"
   ]
  },
  {
   "cell_type": "markdown",
   "id": "b24b16c0-3a6b-418c-829e-fb9ce191fd2a",
   "metadata": {},
   "source": [
    "In this notebook, Data Science Tools and Ecosystem are summarized."
   ]
  },
  {
   "cell_type": "markdown",
   "id": "0c06e843-b79c-44d8-aeec-42653a57807d",
   "metadata": {
    "tags": []
   },
   "source": [
    "**Objectives:**\n",
    "\n",
    "- List popular languages for Data Science.\n",
    "- Introduce common libraries used in Data Science.\n",
    "- Evaluate arithmetic expressions in Python.\n",
    "- Convert units using basic arithmetic operations.\n"
   ]
  },
  {
   "cell_type": "markdown",
   "id": "816a80f1-73f2-4166-9f28-a55dcedb7ae9",
   "metadata": {},
   "source": [
    "Some of the popular languages that Data Scientists use are:\n",
    "\n",
    "1. Python\n",
    "2. R\n",
    "3. Julia\n"
   ]
  },
  {
   "cell_type": "markdown",
   "id": "27561851-e3b7-4a12-a394-c46c6802d576",
   "metadata": {},
   "source": [
    "Some of the commonly used libraries used by Data Scientists include:\n",
    "\n",
    "1. Numpy\n",
    "2. Pandas\n",
    "3. Matplotlib\n"
   ]
  },
  {
   "cell_type": "markdown",
   "id": "63922473-06ab-4a09-86bc-fa0f3a8c95b6",
   "metadata": {},
   "source": [
    "| Data Science Tools |\n",
    "|--------------------|\n",
    "| Jupyter Notebooks  |\n",
    "| RStudio            |\n",
    "| VS Code            |\n"
   ]
  },
  {
   "cell_type": "markdown",
   "id": "25edcc5d-b449-45df-a767-a3bc65d4ca19",
   "metadata": {},
   "source": [
    "### Below are a few examples of evaluating arithmetic expressions in Python.\n"
   ]
  },
  {
   "cell_type": "code",
   "execution_count": 4,
   "id": "ad1dbbc8-2435-4705-b0e0-5e3b3df36bcf",
   "metadata": {
    "tags": []
   },
   "outputs": [
    {
     "data": {
      "text/plain": [
       "17"
      ]
     },
     "execution_count": 4,
     "metadata": {},
     "output_type": "execute_result"
    }
   ],
   "source": [
    "# This is a simple arithmetic expression to multiply then add integers.\n",
    "result = (3 * 4) + 5\n",
    "result"
   ]
  },
  {
   "cell_type": "code",
   "execution_count": 5,
   "id": "8e5976c5-ae5c-41ae-af6c-f5779db7c5a0",
   "metadata": {
    "tags": []
   },
   "outputs": [
    {
     "data": {
      "text/plain": [
       "3.3333333333333335"
      ]
     },
     "execution_count": 5,
     "metadata": {},
     "output_type": "execute_result"
    }
   ],
   "source": [
    "# This will convert 200 minutes to hours by dividing by 60.\n",
    "minutes = 200\n",
    "hours = minutes / 60\n",
    "hours\n"
   ]
  },
  {
   "cell_type": "markdown",
   "id": "51384252-0cfd-4db6-95f1-82436b9400ed",
   "metadata": {
    "tags": []
   },
   "source": [
    "## Author\n",
    "\n",
    "Daniel Thuo Muhia\n"
   ]
  },
  {
   "cell_type": "code",
   "execution_count": null,
   "id": "5af42484-49cd-4184-acb2-ec39f4af3f67",
   "metadata": {},
   "outputs": [],
   "source": []
  }
 ],
 "metadata": {
  "kernelspec": {
   "display_name": "Python",
   "language": "python",
   "name": "conda-env-python-py"
  },
  "language_info": {
   "codemirror_mode": {
    "name": "ipython",
    "version": 3
   },
   "file_extension": ".py",
   "mimetype": "text/x-python",
   "name": "python",
   "nbconvert_exporter": "python",
   "pygments_lexer": "ipython3",
   "version": "3.7.12"
  }
 },
 "nbformat": 4,
 "nbformat_minor": 5
}
